version https://git-lfs.github.com/spec/v1
oid sha256:3bd982e56e6db67e3a81fefa53a8ec76ab588954ef89f560c2fe00edb9651628
size 23977
