version https://git-lfs.github.com/spec/v1
oid sha256:3682c20decf745991dfaf6dee8de3146ca92d16ee6dc74acdaf8d071881b6da7
size 171363
