version https://git-lfs.github.com/spec/v1
oid sha256:05592940729551b9f1bf4ae7ff32fb502a30f3f1b4150b6b9a99476f8b0e584d
size 19639
