version https://git-lfs.github.com/spec/v1
oid sha256:b63257d5e20e0c3902c9ceae026cef4e4f90ef376ccc797bac4a30a7bc6fdaa0
size 39200
